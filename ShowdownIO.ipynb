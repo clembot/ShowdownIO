{
 "cells": [
  {
   "cell_type": "markdown",
   "metadata": {
    "colab_type": "text",
    "id": "nJC32y2AMn8_"
   },
   "source": [
    "# ShowdownIO\n",
    "ShowdownIO is a Python-Selenium-based interface for autonomous battle monitoring and play on Pokémon Showdown. With an instance of the ShowdownIO class, you can automatically participate in or just collect information about battles happening on the world's most popular Pokémon battle simulator. \n",
    "\n"
   ]
  },
  {
   "cell_type": "markdown",
   "metadata": {
    "colab_type": "text",
    "id": "PVZY2RWWZ0ii"
   },
   "source": [
    "## Setup"
   ]
  },
  {
   "cell_type": "markdown",
   "metadata": {
    "colab_type": "text",
    "id": "db7zEZ0ASMxz"
   },
   "source": [
    "### Dependencies\n",
    "ShowdownIO depends on the [Selenium Python bindings](https://selenium-python.readthedocs.io/) and a [driver](https://selenium-python.readthedocs.io/installation.html#drivers) to interface with the chosen browser (we currently prefer Firefox) in the home working path."
   ]
  },
  {
   "cell_type": "code",
   "execution_count": 56,
   "metadata": {
    "colab": {},
    "colab_type": "code",
    "id": "Vu3YrDLhM4-M"
   },
   "outputs": [],
   "source": [
    "# selenium\n",
    "from selenium import webdriver\n",
    "from selenium.webdriver.firefox.firefox_profile import FirefoxProfile\n",
    "from selenium.webdriver.support import ui\n",
    "from selenium.webdriver.common.keys import Keys\n",
    "from selenium.webdriver.common.action_chains import ActionChains\n",
    "from selenium.webdriver.support import expected_conditions as EC\n",
    "from selenium.common.exceptions import NoSuchElementException\n",
    "from selenium.common.exceptions import ElementNotInteractableException\n",
    "import os"
   ]
  },
  {
   "cell_type": "markdown",
   "metadata": {
    "colab_type": "text",
    "id": "tNVQXfr3Z20-"
   },
   "source": [
    "### Constants"
   ]
  },
  {
   "cell_type": "code",
   "execution_count": 57,
   "metadata": {
    "colab": {},
    "colab_type": "code",
    "id": "B_TBagbWaDf9"
   },
   "outputs": [],
   "source": [
    "# for driver setup\n",
    "site_url = 'https://play.pokemonshowdown.com/'\n",
    "driver_path = os.path.join(os.getcwd(), 'geckodriver.exe')\n",
    "\n",
    "# for interacting with site html\n",
    "login = \"//button[@name='login']\"\n",
    "loggedin = \"//span[@class='username']\"\n",
    "openoptions = \"//button[@name='openOptions']\"\n",
    "register = \"//button[@name='register']\"\n",
    "enterusername = \"//input[@name='username']\"\n",
    "enterpassword = \"//input[@name='password']\"\n",
    "confirmpassword = \"//input[@name='cpassword']\"\n",
    "captcha = \"//input[@name='captcha']\"\n",
    "submit = \"//button[@type='submit']\"\n",
    "error = \"//p[@class='error']\"\n",
    "close = \"//button[@name='close']\"\n",
    "hometab = '//div[@class=\"tabbar maintabbar\"]/div/ul'\n",
    "startbattle = '//button[@class=\"button mainmenu1 big\"]'\n",
    "registered = \"The name you chose is registered.\"\n",
    "wrongpassword = \"Wrong password.\"\n",
    "alreadyusing = \"Someone is already using the name \""
   ]
  },
  {
   "cell_type": "markdown",
   "metadata": {},
   "source": [
    "## Helper Functions"
   ]
  },
  {
   "cell_type": "code",
   "execution_count": 58,
   "metadata": {},
   "outputs": [],
   "source": [
    "def confirmClick(element):\n",
    "    \"Keeps trying to click element and returns True upon success\"\n",
    "    \n",
    "    while True:\n",
    "        try:\n",
    "            element.click()\n",
    "            return True\n",
    "        except ElementNotInteractableException:\n",
    "            pass"
   ]
  },
  {
   "cell_type": "markdown",
   "metadata": {
    "colab_type": "text",
    "id": "dlqFl5MuRzOi"
   },
   "source": [
    "## The ShowdownIO Class\n",
    "Users will use instances of this class to create and operate their bots."
   ]
  },
  {
   "cell_type": "code",
   "execution_count": 59,
   "metadata": {
    "colab": {},
    "colab_type": "code",
    "id": "3BTf_SMHRyhJ"
   },
   "outputs": [],
   "source": [
    "class ShowdownIO(object):\n",
    "    \"\"\"An interface for autonomous battle monitoring and play on Pokémon Showdown using the Selenium Python bindings.\n",
    "    \n",
    "    Attributes:\n",
    "        driver_path: path to the web driver associated with class\n",
    "        site_url: 'https://play.pokemonshowdown.com/'\n",
    "        battles: list of representations of all live battles associated with account\n",
    "    \"\"\"\n",
    "\n",
    "    def __init__(self, username, password):\n",
    "        \"Inits ShowdownIO, logging into PS w/ specified username and password.\"\n",
    "        \n",
    "        # start browser and open site\n",
    "        self.driver = webdriver.Firefox(FirefoxProfile(), executable_path=driver_path)\n",
    "        self.wait = ui.WebDriverWait(self.driver, 10)\n",
    "        self.driver.get(site_url)\n",
    "        self.wait.until(lambda _: self.xpath(login) or self.xpath(loggedin))\n",
    "        \n",
    "        # log in if not logged in\n",
    "        if self.xpath(login):\n",
    "            self.xpath(login).click()\n",
    "            self.xpath(enterusername).send_keys(username)\n",
    "            self.xpath(enterusername).send_keys(Keys.RETURN)\n",
    "            self.wait.until(lambda _: username in self.xpath().text or self.xpath(error))\n",
    "            \n",
    "            # possibilities: username used, registered, unregistered\n",
    "            # username is registered: submit password and raise error if failure\n",
    "            if self.xpath(enterpassword):\n",
    "                self.xpath(enterpassword).send_keys(password)\n",
    "                self.xpath(enterpassword).send_keys(Keys.RETURN)\n",
    "                self.wait.until(lambda _: self.xpath(error) or not self.xpath(login))\n",
    "                if self.xpath(error):\n",
    "                    raise ValueError(wrongpassword)\n",
    "                    \n",
    "            # someone using username now: raise error\n",
    "            elif self.xpath(error):\n",
    "                raise ValueError(alreadyusing)\n",
    "           \n",
    "            # username is unregistered: register with specified password\n",
    "            else:\n",
    "                self.xpath(openoptions).click()\n",
    "                self.wait.until(lambda _: self.xpath(register))\n",
    "                self.xpath(register).click()\n",
    "                self.wait.until(lambda _: self.xpath(enterpassword))\n",
    "                self.xpath(enterpassword).send_keys(password)\n",
    "                self.xpath(confirmpassword).send_keys(password)\n",
    "                self.xpath(captcha).send_keys(\"pikachu\")\n",
    "                self.xpath(submit).click()\n",
    "                self.wait.until(lambda _: not self.xpath(login))\n",
    "                self.xpath(close).click()\n",
    "           \n",
    "        # initialize representation of all \"live\" battles\n",
    "        self.battles = []\n",
    "        \n",
    "    def start_battle(self):\n",
    "        \"Starts a new battle; only resolves if battle successfully started.\"\n",
    "        \n",
    "        # first check # of tabs\n",
    "        original_tab_count = len(self.driver.find_elements_by_xpath(hometab))\n",
    "        \n",
    "        # switch to home tab and start battle\n",
    "        self.xpath(hometab).click()\n",
    "        self.wait.until(lambda _: confirmClick(self.xpath(startbattle)))\n",
    "        \n",
    "        # wait until # of tabs increases by 1\n",
    "        self.wait.until(lambda _: original_tab_count < len(self.driver.find_elements_by_xpath(hometab)))\n",
    "    \n",
    "    def xpath(self, xpath=\"//body\"):\n",
    "        \"Returns first element with specified xpath on driver's current webpage\"\n",
    "        try:\n",
    "            return self.driver.find_element_by_xpath(xpath)\n",
    "        except NoSuchElementException:\n",
    "            return None"
   ]
  },
  {
   "cell_type": "markdown",
   "metadata": {
    "colab_type": "text",
    "id": "WDPu6hdbXJHV"
   },
   "source": [
    "## Testing"
   ]
  },
  {
   "cell_type": "code",
   "execution_count": 60,
   "metadata": {
    "colab": {},
    "colab_type": "code",
    "id": "ITEwomJVviBJ"
   },
   "outputs": [],
   "source": [
    "bot = ShowdownIO(username='battlebot9', password='password')"
   ]
  }
 ],
 "metadata": {
  "colab": {
   "include_colab_link": true,
   "name": "ShowdownIO.ipynb",
   "provenance": [],
   "version": "0.3.2"
  },
  "kernelspec": {
   "display_name": "Python 3",
   "language": "python",
   "name": "python3"
  },
  "language_info": {
   "codemirror_mode": {
    "name": "ipython",
    "version": 3
   },
   "file_extension": ".py",
   "mimetype": "text/x-python",
   "name": "python",
   "nbconvert_exporter": "python",
   "pygments_lexer": "ipython3",
   "version": "3.7.6"
  }
 },
 "nbformat": 4,
 "nbformat_minor": 4
}
