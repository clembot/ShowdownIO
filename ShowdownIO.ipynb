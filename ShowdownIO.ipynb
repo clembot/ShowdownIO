{
  "nbformat": 4,
  "nbformat_minor": 0,
  "metadata": {
    "colab": {
      "name": "ShowdownIO.ipynb",
      "version": "0.3.2",
      "provenance": [],
      "include_colab_link": true
    },
    "kernelspec": {
      "name": "python3",
      "display_name": "Python 3"
    }
  },
  "cells": [
    {
      "cell_type": "markdown",
      "metadata": {
        "id": "view-in-github",
        "colab_type": "text"
      },
      "source": [
        "<a href=\"https://colab.research.google.com/github/githubpsyche/ShowdownIO/blob/initializerdev/ShowdownIO.ipynb\" target=\"_parent\"><img src=\"https://colab.research.google.com/assets/colab-badge.svg\" alt=\"Open In Colab\"/></a>"
      ]
    },
    {
      "metadata": {
        "id": "nJC32y2AMn8_",
        "colab_type": "text"
      },
      "cell_type": "markdown",
      "source": [
        "# ShowdownIO\n",
        "ShowdownIO is a Python-Selenium-based interface for autonomous battle monitoring and play on Pokémon Showdown. With an instance of the ShowdownIO class, you can automatically participate in or just collect information about battles happening on the world's most popular Pokémon battle simulator. \n",
        "\n"
      ]
    },
    {
      "metadata": {
        "id": "PVZY2RWWZ0ii",
        "colab_type": "text"
      },
      "cell_type": "markdown",
      "source": [
        "## Setup"
      ]
    },
    {
      "metadata": {
        "id": "db7zEZ0ASMxz",
        "colab_type": "text"
      },
      "cell_type": "markdown",
      "source": [
        "### Dependencies\n",
        "ShowdownIO depends on the [Selenium Python bindings](https://selenium-python.readthedocs.io/) and a [driver](https://selenium-python.readthedocs.io/installation.html#drivers) to interface with the chosen browser (we currently prefer Firefox) in the home working path."
      ]
    },
    {
      "metadata": {
        "id": "Vu3YrDLhM4-M",
        "colab_type": "code",
        "colab": {}
      },
      "cell_type": "code",
      "source": [
        "# selenium\n",
        "from selenium import webdriver\n",
        "from selenium.webdriver.firefox.firefox_profile import FirefoxProfile\n",
        "from selenium.webdriver.support import ui\n",
        "from selenium.webdriver.common.keys import Keys\n",
        "from selenium.webdriver.common.action_chains import ActionChains\n",
        "from selenium.webdriver.support import expected_conditions as EC\n",
        "from selenium.common.exceptions import NoSuchElementException\n",
        "import os"
      ],
      "execution_count": 0,
      "outputs": []
    },
    {
      "metadata": {
        "id": "tNVQXfr3Z20-",
        "colab_type": "text"
      },
      "cell_type": "markdown",
      "source": [
        "### Constants"
      ]
    },
    {
      "metadata": {
        "id": "B_TBagbWaDf9",
        "colab_type": "code",
        "colab": {}
      },
      "cell_type": "code",
      "source": [
        "# for driver setup\n",
        "site_url = 'https://play.pokemonshowdown.com/'\n",
        "driver_path = os.path.join(os.getcwd(), 'geckodriver')\n",
        "\n",
        "# for interacting with site html\n",
        "login = \"//button[@name='login']\"\n",
        "loggedin = \"//span[@class='username']\"\n",
        "openoptions = \"//button[@name='openOptions']\"\n",
        "register = \"//button[@name='register']\"\n",
        "enterusername = \"//input[@name='username']\"\n",
        "enterpassword = \"//input[@name='password']\"\n",
        "confirmpassword = \"//input[@name='cpassword']\"\n",
        "captcha = \"//input[@name='captcha']\"\n",
        "submit = \"//button[@type='submit']\"\n",
        "error = \"//p[@class='error']\"\n",
        "close = \"//button[@name='close']\"\n",
        "registered = \"The name you chose is registered.\"\n",
        "wrongpassword = \"Wrong password.\"\n",
        "alreadyusing = \"Someone is already using the name \""
      ],
      "execution_count": 0,
      "outputs": []
    },
    {
      "metadata": {
        "id": "dlqFl5MuRzOi",
        "colab_type": "text"
      },
      "cell_type": "markdown",
      "source": [
        "## The ShowdownIO Class\n",
        "Users will use instances of this class to create and operate their bots."
      ]
    },
    {
      "metadata": {
        "id": "3BTf_SMHRyhJ",
        "colab_type": "code",
        "colab": {}
      },
      "cell_type": "code",
      "source": [
        "class ShowdownIO(object):\n",
        "    \"\"\"An interface for autonomous battle monitoring and play on Pokémon Showdown using the Selenium Python bindings.\n",
        "    \n",
        "    Attributes:\n",
        "        driver_path: path to the web driver associated with class\n",
        "        site_url: 'https://play.pokemonshowdown.com/'\n",
        "        battles: list of representations of all live battles associated with account\n",
        "    \"\"\"\n",
        "\n",
        "    def __init__(self, username, password):\n",
        "        \"Inits ShowdownIO, logging into PS w/ specified username and password.\"\n",
        "        \n",
        "        # start browser and open site\n",
        "        self.driver = webdriver.Firefox(FirefoxProfile(), executable_path=driver_path)\n",
        "        self.wait = ui.WebDriverWait(self.driver, 10)\n",
        "        self.driver.get(site_url)\n",
        "        self.wait.until(lambda _: self.xpath(login) or self.xpath(loggedin))\n",
        "        \n",
        "        # log in if not logged in\n",
        "        if self.xpath(login):\n",
        "            self.xpath(login).click()\n",
        "            self.xpath(enterusername).send_keys(username)\n",
        "            self.xpath(enterusername).send_keys(Keys.RETURN)\n",
        "            self.wait.until(lambda _: username in self.xpath().text or self.xpath(error))\n",
        "            \n",
        "            # possibilities: username used, registered, unregistered\n",
        "            # username is registered: submit password and raise error if failure\n",
        "            if self.xpath(enterpassword):\n",
        "                print('Username is registered')\n",
        "                self.xpath(enterpassword).send_keys(password)\n",
        "                self.xpath(enterpassword).send_keys(Keys.RETURN)\n",
        "                self.wait.until(lambda _: self.xpath(error) or not self.xpath(login))\n",
        "                if self.xpath(error):\n",
        "                    raise ValueError(wrongpassword)\n",
        "                    \n",
        "            # someone using username now: raise error\n",
        "            elif self.xpath(error):\n",
        "                raise ValueError(alreadyusing)\n",
        "           \n",
        "            # username is unregistered: register with specified password\n",
        "            else:\n",
        "                self.xpath(openoptions).click()\n",
        "                self.wait.until(lambda _: self.xpath(register))\n",
        "                self.xpath(register).click()\n",
        "                self.wait.until(lambda _: self.xpath(enterpassword))\n",
        "                self.xpath(enterpassword).send_keys(password)\n",
        "                self.xpath(confirmpassword).send_keys(password)\n",
        "                self.xpath(captcha).send_keys(\"pikachu\")\n",
        "                self.xpath(submit).click()\n",
        "                self.wait.until(lambda _: not self.xpath(login))\n",
        "                self.xpath(close).click()\n",
        "           \n",
        "        \n",
        "        # initialize representation of all \"live\" battles\n",
        "        self.battles = []\n",
        "        \n",
        "        \n",
        "    def xpath(self, xpath=\"//body\"):\n",
        "        \"Returns element with specified xpath on driver's current webpage\"\n",
        "        try:\n",
        "            return self.driver.find_element_by_xpath(xpath)\n",
        "        except NoSuchElementException:\n",
        "            return None"
      ],
      "execution_count": 0,
      "outputs": []
    },
    {
      "metadata": {
        "id": "WDPu6hdbXJHV",
        "colab_type": "text"
      },
      "cell_type": "markdown",
      "source": [
        "## Testing"
      ]
    },
    {
      "metadata": {
        "id": "ITEwomJVviBJ",
        "colab_type": "code",
        "colab": {}
      },
      "cell_type": "code",
      "source": [
        "bot = ShowdownIO(username='battlebot0', password='password')"
      ],
      "execution_count": 0,
      "outputs": []
    }
  ]
}