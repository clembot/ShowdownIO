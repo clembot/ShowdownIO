{
  "nbformat": 4,
  "nbformat_minor": 0,
  "metadata": {
    "colab": {
      "name": "ShowdownIO.ipynb",
      "version": "0.3.2",
      "provenance": [],
      "include_colab_link": true
    },
    "kernelspec": {
      "name": "python3",
      "display_name": "Python 3"
    }
  },
  "cells": [
    {
      "cell_type": "markdown",
      "metadata": {
        "id": "view-in-github",
        "colab_type": "text"
      },
      "source": [
        "<a href=\"https://colab.research.google.com/github/githubpsyche/ShowdownIO/blob/master/ShowdownIO.ipynb\" target=\"_parent\"><img src=\"https://colab.research.google.com/assets/colab-badge.svg\" alt=\"Open In Colab\"/></a>"
      ]
    },
    {
      "metadata": {
        "id": "nJC32y2AMn8_",
        "colab_type": "text"
      },
      "cell_type": "markdown",
      "source": [
        "# ShowdownIO\n",
        "ShowdownIO is a Python-Selenium-based interface for autonomous battle monitoring and play on Pokémon Showdown. With an instance of the ShowdownIO class, you can automatically participate in or just collect information about battles happening on the world's most popular Pokémon battle simulator. \n",
        "\n"
      ]
    },
    {
      "metadata": {
        "id": "Vu3YrDLhM4-M",
        "colab_type": "code",
        "colab": {}
      },
      "cell_type": "code",
      "source": [
        ""
      ],
      "execution_count": 0,
      "outputs": []
    }
  ]
}